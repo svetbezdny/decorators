{
  "cells": [
    {
      "cell_type": "markdown",
      "metadata": {
        "id": "QY4qPJPpgyIS"
      },
      "source": [
        "# Домашнее задание: декораторы"
      ]
    },
    {
      "cell_type": "markdown",
      "metadata": {
        "id": "Chacc6YchldZ"
      },
      "source": [
        "## Импорт библиотек, установка констант"
      ]
    },
    {
      "cell_type": "code",
      "execution_count": 1,
      "metadata": {
        "id": "w8iKrWvwhrFd"
      },
      "outputs": [],
      "source": [
        "import requests\n",
        "import re\n",
        "\n",
        "from decorators import benchmark, logging, counter, memo"
      ]
    },
    {
      "cell_type": "code",
      "execution_count": 2,
      "metadata": {
        "id": "-LRkS0fSi8Np"
      },
      "outputs": [],
      "source": [
        "BOOK_PATH = 'https://www.gutenberg.org/files/2638/2638-0.txt'"
      ]
    },
    {
      "cell_type": "markdown",
      "metadata": {
        "id": "kARfL8ifg4MH"
      },
      "source": [
        "<h1>Задания:</h1>\n",
        "<ol>\n",
        "    <li>Реализуйте декоратор benchmark(func), выводящий время, которое заняло выполнение декорируемой функции</li>\n",
        "    <li>Реализуйте декоратор logging(func), который выводит параметры с которыми была вызвана функция</li>\n",
        "    <li>Реализуйте декоратор memo(func), запоминающий результаты исполнения функции func, чьи аргументы *args должны быть хешируемыми.<br>\n",
        "    Сравните время выполнения рекурсивной реализации расчета чисел Фибоначчи без декоратора и с ним</li>\n",
        "</ol>\n"
      ]
    },
    {
      "cell_type": "markdown",
      "metadata": {
        "id": "Zn5UQCa_izxo"
      },
      "source": [
        "<h1>Тестирование</h1>"
      ]
    },
    {
      "cell_type": "code",
      "execution_count": 3,
      "metadata": {
        "id": "CHCJ64I8i2QB"
      },
      "outputs": [
        {
          "name": "stdout",
          "output_type": "stream",
          "text": [
            "Функция была вызвана 1 раз\n",
            "Время выполнения функции word_count: 0:00:02.558599\n",
            "Функция была вызвана c параметрами: ('whole',)\n",
            "Cлово whole встречается 176 раз\n"
          ]
        }
      ],
      "source": [
        "@counter\n",
        "@logging\n",
        "@benchmark\n",
        "def word_count(word: str, url: str = BOOK_PATH) -> str:\n",
        "    \"\"\"\n",
        "    Функция для посчета указанного слова на html-странице\n",
        "    \"\"\"\n",
        "\n",
        "    # отправляем запрос в библиотеку Gutenberg и забираем текст\n",
        "    raw = requests.get(url).text\n",
        "\n",
        "    # заменяем в тексте все небуквенные символы на пробелы\n",
        "    processed_book = re.sub(\"[\\W]+\", \" \", raw).lower()\n",
        "\n",
        "    # считаем\n",
        "    cnt = len(re.findall(word.lower(), processed_book))\n",
        "\n",
        "    return f\"Cлово {word} встречается {cnt} раз\"\n",
        "\n",
        "\n",
        "print(word_count(\"whole\"))"
      ]
    },
    {
      "cell_type": "code",
      "execution_count": 4,
      "metadata": {
        "id": "ZE4Rfn-hh3k3"
      },
      "outputs": [],
      "source": [
        "def fib(n: int) -> int:\n",
        "    if n < 2:\n",
        "        return n\n",
        "    return fib(n - 2) + fib(n - 1)"
      ]
    },
    {
      "cell_type": "code",
      "execution_count": 5,
      "metadata": {
        "id": "Io94NyjiiXG4"
      },
      "outputs": [
        {
          "name": "stdout",
          "output_type": "stream",
          "text": [
            "Время выполнения функции fib: 0:00:10.694082\n",
            "102334155\n",
            "--------------------\n",
            "Время выполнения функции fib: 0:00:10.744157\n",
            "102334155\n"
          ]
        }
      ],
      "source": [
        "# время выполнения без запоминания\n",
        "\n",
        "fib_without_cache = benchmark(fib)\n",
        "\n",
        "print(fib_without_cache(40))\n",
        "print(\"-\" * 20)\n",
        "print(fib_without_cache(40))"
      ]
    },
    {
      "cell_type": "code",
      "execution_count": 6,
      "metadata": {
        "id": "W9B3e-t9iTUj"
      },
      "outputs": [
        {
          "name": "stdout",
          "output_type": "stream",
          "text": [
            "Время выполнения функции fib: 0:00:10.667713\n",
            "102334155\n",
            "--------------------\n",
            "Время выполнения функции fib: 0:00:00.000003\n",
            "102334155\n"
          ]
        }
      ],
      "source": [
        "# время выполнения с запоминанием\n",
        "\n",
        "fib_with_cache = benchmark(memo(fib))\n",
        "\n",
        "print(fib_with_cache(40))\n",
        "print(\"-\" * 20)\n",
        "print(fib_with_cache(40))"
      ]
    }
  ],
  "metadata": {
    "colab": {
      "provenance": []
    },
    "kernelspec": {
      "display_name": "Python 3",
      "name": "python3"
    },
    "language_info": {
      "codemirror_mode": {
        "name": "ipython",
        "version": 3
      },
      "file_extension": ".py",
      "mimetype": "text/x-python",
      "name": "python",
      "nbconvert_exporter": "python",
      "pygments_lexer": "ipython3",
      "version": "3.11.0"
    }
  },
  "nbformat": 4,
  "nbformat_minor": 0
}
